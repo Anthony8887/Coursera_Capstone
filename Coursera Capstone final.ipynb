{
 "cells": [
  {
   "cell_type": "markdown",
   "metadata": {},
   "source": [
    "# Capstone final project"
   ]
  },
  {
   "cell_type": "code",
   "execution_count": 1,
   "metadata": {},
   "outputs": [],
   "source": [
    "import pandas as pd\n",
    "import numpy as np"
   ]
  },
  {
   "cell_type": "code",
   "execution_count": 2,
   "metadata": {},
   "outputs": [
    {
     "name": "stdout",
     "output_type": "stream",
     "text": [
      "Hello Capstone Project Course!\n"
     ]
    }
   ],
   "source": [
    "print('Hello Capstone Project Course!')"
   ]
  },
  {
   "cell_type": "markdown",
   "metadata": {},
   "source": [
    "## Introduction/Business Problem"
   ]
  },
  {
   "cell_type": "markdown",
   "metadata": {},
   "source": [
    "Denver Colorado Is a very busy place full of grocery stores, resturants, and other small businesses. Part of this is due to the masssive inflow of people moving to Colorado for business and other factors. Since there is a lot of people moving into a place they have never been before I wanted to create a module that will help them determine the best places to live. The plan is to look at three diffrent datasets that provide diffrent information one may consider when moving to a place. These are things like cost of housing, crime in the area, and the proximity of things like grocery stores and other food related shops."
   ]
  },
  {
   "cell_type": "markdown",
   "metadata": {},
   "source": [
    "## Data used"
   ]
  },
  {
   "cell_type": "markdown",
   "metadata": {},
   "source": [
    "Housing data - https://www.denvergov.org/opendata/dataset/city-and-county-of-denver-affordable-housing-units\n",
    "\n",
    "Food data - Couldn't aquire the link \n",
    "\n",
    "Crime data - https://www.denvergov.org/opendata/dataset/city-and-county-of-denver-crime"
   ]
  }
 ],
 "metadata": {
  "kernelspec": {
   "display_name": "Python 3",
   "language": "python",
   "name": "python3"
  },
  "language_info": {
   "codemirror_mode": {
    "name": "ipython",
    "version": 3
   },
   "file_extension": ".py",
   "mimetype": "text/x-python",
   "name": "python",
   "nbconvert_exporter": "python",
   "pygments_lexer": "ipython3",
   "version": "3.7.1"
  }
 },
 "nbformat": 4,
 "nbformat_minor": 2
}
